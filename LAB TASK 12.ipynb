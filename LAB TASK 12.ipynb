{
 "cells": [
  {
   "cell_type": "code",
   "execution_count": 2,
   "id": "aa1a4757-babe-494e-b9fa-9dacf32b44c3",
   "metadata": {},
   "outputs": [],
   "source": [
    "import numpy as np\n",
    "import pandas as pd\n",
    "import matplotlib.pyplot as plt\n",
    "import seaborn as sns\n",
    "from sklearn.preprocessing import LabelEncoder\n",
    "from sklearn.model_selection import train_test_split\n",
    "from sklearn import metrics"
   ]
  },
  {
   "cell_type": "code",
   "execution_count": 4,
   "id": "f152e759-c774-42c9-bee5-4e19be8f3073",
   "metadata": {},
   "outputs": [
    {
     "name": "stdout",
     "output_type": "stream",
     "text": [
      "    Bus_Name  distence_km  tiket_price\n",
      "0     Praime           50          100\n",
      "1     Praime           51          100\n",
      "2     Praime           52          100\n",
      "3     Praime           53          100\n",
      "4     Praime           54          100\n",
      "..       ...          ...          ...\n",
      "194     BRTC          181          200\n",
      "195     BRTC          182          200\n",
      "196     BRTC          183          200\n",
      "197     BRTC          184          200\n",
      "198     BRTC          185          200\n",
      "\n",
      "[199 rows x 3 columns]\n"
     ]
    }
   ],
   "source": [
    "Bus_data = pd.read_csv(\"Bus_Ticket_price.csv\")\n",
    "print(Bus_data)"
   ]
  },
  {
   "cell_type": "code",
   "execution_count": 5,
   "id": "1844464b-de7e-40cd-b66f-35b853bb3165",
   "metadata": {},
   "outputs": [
    {
     "data": {
      "text/html": [
       "<div>\n",
       "<style scoped>\n",
       "    .dataframe tbody tr th:only-of-type {\n",
       "        vertical-align: middle;\n",
       "    }\n",
       "\n",
       "    .dataframe tbody tr th {\n",
       "        vertical-align: top;\n",
       "    }\n",
       "\n",
       "    .dataframe thead th {\n",
       "        text-align: right;\n",
       "    }\n",
       "</style>\n",
       "<table border=\"1\" class=\"dataframe\">\n",
       "  <thead>\n",
       "    <tr style=\"text-align: right;\">\n",
       "      <th></th>\n",
       "      <th>Bus_Name</th>\n",
       "      <th>distence_km</th>\n",
       "      <th>tiket_price</th>\n",
       "    </tr>\n",
       "  </thead>\n",
       "  <tbody>\n",
       "    <tr>\n",
       "      <th>0</th>\n",
       "      <td>Praime</td>\n",
       "      <td>50</td>\n",
       "      <td>100</td>\n",
       "    </tr>\n",
       "    <tr>\n",
       "      <th>1</th>\n",
       "      <td>Praime</td>\n",
       "      <td>51</td>\n",
       "      <td>100</td>\n",
       "    </tr>\n",
       "  </tbody>\n",
       "</table>\n",
       "</div>"
      ],
      "text/plain": [
       "  Bus_Name  distence_km  tiket_price\n",
       "0   Praime           50          100\n",
       "1   Praime           51          100"
      ]
     },
     "execution_count": 5,
     "metadata": {},
     "output_type": "execute_result"
    }
   ],
   "source": [
    "Bus_data.head(2)"
   ]
  },
  {
   "cell_type": "code",
   "execution_count": 6,
   "id": "cc5d4e20-3feb-44b4-9df2-5776ff29efef",
   "metadata": {},
   "outputs": [
    {
     "data": {
      "text/html": [
       "<div>\n",
       "<style scoped>\n",
       "    .dataframe tbody tr th:only-of-type {\n",
       "        vertical-align: middle;\n",
       "    }\n",
       "\n",
       "    .dataframe tbody tr th {\n",
       "        vertical-align: top;\n",
       "    }\n",
       "\n",
       "    .dataframe thead th {\n",
       "        text-align: right;\n",
       "    }\n",
       "</style>\n",
       "<table border=\"1\" class=\"dataframe\">\n",
       "  <thead>\n",
       "    <tr style=\"text-align: right;\">\n",
       "      <th></th>\n",
       "      <th>Bus_Name</th>\n",
       "      <th>distence_km</th>\n",
       "      <th>tiket_price</th>\n",
       "    </tr>\n",
       "  </thead>\n",
       "  <tbody>\n",
       "    <tr>\n",
       "      <th>197</th>\n",
       "      <td>BRTC</td>\n",
       "      <td>184</td>\n",
       "      <td>200</td>\n",
       "    </tr>\n",
       "    <tr>\n",
       "      <th>198</th>\n",
       "      <td>BRTC</td>\n",
       "      <td>185</td>\n",
       "      <td>200</td>\n",
       "    </tr>\n",
       "  </tbody>\n",
       "</table>\n",
       "</div>"
      ],
      "text/plain": [
       "    Bus_Name  distence_km  tiket_price\n",
       "197     BRTC          184          200\n",
       "198     BRTC          185          200"
      ]
     },
     "execution_count": 6,
     "metadata": {},
     "output_type": "execute_result"
    }
   ],
   "source": [
    "Bus_data.tail(2)"
   ]
  },
  {
   "cell_type": "code",
   "execution_count": 7,
   "id": "428aaede-3395-4616-af74-a99020b20f06",
   "metadata": {},
   "outputs": [
    {
     "data": {
      "text/plain": [
       "(199, 3)"
      ]
     },
     "execution_count": 7,
     "metadata": {},
     "output_type": "execute_result"
    }
   ],
   "source": [
    "Bus_data.shape"
   ]
  },
  {
   "cell_type": "code",
   "execution_count": 8,
   "id": "ac844cb4-9387-4a96-921f-a655f8a223e2",
   "metadata": {},
   "outputs": [
    {
     "name": "stdout",
     "output_type": "stream",
     "text": [
      "<class 'pandas.core.frame.DataFrame'>\n",
      "RangeIndex: 199 entries, 0 to 198\n",
      "Data columns (total 3 columns):\n",
      " #   Column       Non-Null Count  Dtype \n",
      "---  ------       --------------  ----- \n",
      " 0   Bus_Name     199 non-null    object\n",
      " 1   distence_km  199 non-null    int64 \n",
      " 2   tiket_price  199 non-null    int64 \n",
      "dtypes: int64(2), object(1)\n",
      "memory usage: 4.8+ KB\n"
     ]
    }
   ],
   "source": [
    "Bus_data.info()"
   ]
  },
  {
   "cell_type": "code",
   "execution_count": 9,
   "id": "5652416f-ed31-4388-98ae-d1dadb7c9426",
   "metadata": {},
   "outputs": [
    {
     "data": {
      "text/plain": [
       "Bus_Name       0\n",
       "distence_km    0\n",
       "tiket_price    0\n",
       "dtype: int64"
      ]
     },
     "execution_count": 9,
     "metadata": {},
     "output_type": "execute_result"
    }
   ],
   "source": [
    "Bus_data.isnull().sum()"
   ]
  },
  {
   "cell_type": "code",
   "execution_count": 11,
   "id": "e24761b9-7166-42b3-8203-dad9afb85e09",
   "metadata": {},
   "outputs": [
    {
     "data": {
      "text/plain": [
       "108.81909547738694"
      ]
     },
     "execution_count": 11,
     "metadata": {},
     "output_type": "execute_result"
    }
   ],
   "source": [
    "Bus_data['tiket_price'].mean()"
   ]
  },
  {
   "cell_type": "code",
   "execution_count": 16,
   "id": "dc10b981-b34e-48e0-ae6e-807b83b026a6",
   "metadata": {},
   "outputs": [
    {
     "data": {
      "text/plain": [
       "0     50\n",
       "1     51\n",
       "2     52\n",
       "3     53\n",
       "4     54\n",
       "5     55\n",
       "6     56\n",
       "7     57\n",
       "8     58\n",
       "9     59\n",
       "10    60\n",
       "11    61\n",
       "12    62\n",
       "13    63\n",
       "14    64\n",
       "15    65\n",
       "16    66\n",
       "17    67\n",
       "18    68\n",
       "19    69\n",
       "20    70\n",
       "21    71\n",
       "22    72\n",
       "23    73\n",
       "24    74\n",
       "25    75\n",
       "26    76\n",
       "27    77\n",
       "28    78\n",
       "29    79\n",
       "30    80\n",
       "31    81\n",
       "32    82\n",
       "33    83\n",
       "34    84\n",
       "35    85\n",
       "36    86\n",
       "37    87\n",
       "38    88\n",
       "39    89\n",
       "40    90\n",
       "41    91\n",
       "42    92\n",
       "Name: distence_km, dtype: int64"
      ]
     },
     "execution_count": 16,
     "metadata": {},
     "output_type": "execute_result"
    }
   ],
   "source": [
    "Bus_data['distence_km'].mode()"
   ]
  },
  {
   "cell_type": "code",
   "execution_count": 18,
   "id": "e023db13-3071-467d-aee8-d10d0a2809ea",
   "metadata": {},
   "outputs": [],
   "source": [
    "miss_values =Bus_data ['Bus_Name'].isnull()"
   ]
  },
  {
   "cell_type": "code",
   "execution_count": 19,
   "id": "64480daa-7ce1-41bf-9168-ecdfc1e0e36e",
   "metadata": {},
   "outputs": [
    {
     "name": "stdout",
     "output_type": "stream",
     "text": [
      "0      False\n",
      "1      False\n",
      "2      False\n",
      "3      False\n",
      "4      False\n",
      "       ...  \n",
      "194    False\n",
      "195    False\n",
      "196    False\n",
      "197    False\n",
      "198    False\n",
      "Name: Bus_Name, Length: 199, dtype: bool\n"
     ]
    }
   ],
   "source": [
    "print(miss_values)"
   ]
  },
  {
   "cell_type": "code",
   "execution_count": 20,
   "id": "f6c69bcf-8cf5-43dc-bf68-712eadea4b62",
   "metadata": {},
   "outputs": [
    {
     "data": {
      "text/plain": [
       "Bus_Name       0\n",
       "distence_km    0\n",
       "tiket_price    0\n",
       "dtype: int64"
      ]
     },
     "execution_count": 20,
     "metadata": {},
     "output_type": "execute_result"
    }
   ],
   "source": [
    "Bus_data.isnull().sum()"
   ]
  },
  {
   "cell_type": "code",
   "execution_count": 22,
   "id": "6000bd20-315e-4fd9-9321-8d4567a55e36",
   "metadata": {},
   "outputs": [
    {
     "data": {
      "text/plain": [
       "0    BRTC\n",
       "Name: Bus_Name, dtype: object"
      ]
     },
     "execution_count": 22,
     "metadata": {},
     "output_type": "execute_result"
    }
   ],
   "source": [
    "Bus_data['Bus_Name'].mode()"
   ]
  },
  {
   "cell_type": "code",
   "execution_count": 24,
   "id": "4ba816d8-8b6e-4cf6-9c27-b7947e14575e",
   "metadata": {},
   "outputs": [],
   "source": [
    "mode_of_Bus_Name = mode_of_Bus_Name =Bus_data .pivot_table(values='Bus_Name', columns='tiket_price', aggfunc=(lambda x: x.mode()[0]))"
   ]
  },
  {
   "cell_type": "code",
   "execution_count": 25,
   "id": "abd3cca1-325a-4be8-a19e-d7a233d5e0ba",
   "metadata": {},
   "outputs": [
    {
     "name": "stdout",
     "output_type": "stream",
     "text": [
      "tiket_price   50    60    80    90      100   105     110     115   120   130  \\\n",
      "Bus_Name     BRTC  BRTC  BRTC  BRTC  Praime  BRTC  Praime  Praime  BRTC  BRTC   \n",
      "\n",
      "tiket_price   140   150   165   180   200  \n",
      "Bus_Name     BRTC  BRTC  BRTC  BRTC  BRTC  \n"
     ]
    }
   ],
   "source": [
    "print(mode_of_Bus_Name)"
   ]
  },
  {
   "cell_type": "code",
   "execution_count": 27,
   "id": "68ff1792-f702-48f5-80c2-262faab0dba2",
   "metadata": {},
   "outputs": [],
   "source": [
    "miss_values =Bus_data ['Bus_Name'].isnull()"
   ]
  },
  {
   "cell_type": "code",
   "execution_count": 28,
   "id": "49c55677-334f-4175-89a0-33754a536682",
   "metadata": {},
   "outputs": [
    {
     "name": "stdout",
     "output_type": "stream",
     "text": [
      "0      False\n",
      "1      False\n",
      "2      False\n",
      "3      False\n",
      "4      False\n",
      "       ...  \n",
      "194    False\n",
      "195    False\n",
      "196    False\n",
      "197    False\n",
      "198    False\n",
      "Name: Bus_Name, Length: 199, dtype: bool\n"
     ]
    }
   ],
   "source": [
    "print(miss_values)"
   ]
  },
  {
   "cell_type": "code",
   "execution_count": 29,
   "id": "76bdf3d4-56da-47b3-8770-e35b1cf7889e",
   "metadata": {},
   "outputs": [],
   "source": [
    "sns.set()"
   ]
  },
  {
   "cell_type": "code",
   "execution_count": 30,
   "id": "25283d03-36d4-47cc-bef9-e9b5f29a8164",
   "metadata": {},
   "outputs": [
    {
     "data": {
      "image/png": "[encoded data removed]",
      "text/plain": [
       "<Figure size 600x600 with 1 Axes>"
      ]
     },
     "metadata": {},
     "output_type": "display_data"
    }
   ],
   "source": [
    "plt.figure(figsize=(6,6))\n",
    "sns.histplot(Bus_data['tiket_price'])\n",
    "plt.show()"
   ]
  },
  {
   "cell_type": "code",
   "execution_count": 31,
   "id": "62c0c476-541c-4b74-b36f-1230ea1d543a",
   "metadata": {},
   "outputs": [
    {
     "data": {
      "image/png": "[encoded data removed]",
      "text/plain": [
       "<Figure size 600x600 with 1 Axes>"
      ]
     },
     "metadata": {},
     "output_type": "display_data"
    }
   ],
   "source": [
    "plt.figure(figsize=(6,6))\n",
    "sns.histplot(Bus_data['distence_km'])\n",
    "plt.show()"
   ]
  },
  {
   "cell_type": "code",
   "execution_count": 32,
   "id": "eaccab0a-9f5c-4941-bb79-bc00fea6a104",
   "metadata": {},
   "outputs": [
    {
     "data": {
      "image/png": "[encoded data removed]",
      "text/plain": [
       "<Figure size 600x600 with 1 Axes>"
      ]
     },
     "metadata": {},
     "output_type": "display_data"
    }
   ],
   "source": [
    "plt.figure(figsize=(6,6))\n",
    "sns.histplot(Bus_data['Bus_Name'])\n",
    "plt.show()"
   ]
  },
  {
   "cell_type": "code",
   "execution_count": 34,
   "id": "97ff0e1d-a21a-4da6-aaaa-5ef44212d712",
   "metadata": {},
   "outputs": [
    {
     "data": {
      "text/html": [
       "<div>\n",
       "<style scoped>\n",
       "    .dataframe tbody tr th:only-of-type {\n",
       "        vertical-align: middle;\n",
       "    }\n",
       "\n",
       "    .dataframe tbody tr th {\n",
       "        vertical-align: top;\n",
       "    }\n",
       "\n",
       "    .dataframe thead th {\n",
       "        text-align: right;\n",
       "    }\n",
       "</style>\n",
       "<table border=\"1\" class=\"dataframe\">\n",
       "  <thead>\n",
       "    <tr style=\"text-align: right;\">\n",
       "      <th></th>\n",
       "      <th>Bus_Name</th>\n",
       "      <th>distence_km</th>\n",
       "      <th>tiket_price</th>\n",
       "    </tr>\n",
       "  </thead>\n",
       "  <tbody>\n",
       "    <tr>\n",
       "      <th>0</th>\n",
       "      <td>Praime</td>\n",
       "      <td>50</td>\n",
       "      <td>100</td>\n",
       "    </tr>\n",
       "    <tr>\n",
       "      <th>1</th>\n",
       "      <td>Praime</td>\n",
       "      <td>51</td>\n",
       "      <td>100</td>\n",
       "    </tr>\n",
       "    <tr>\n",
       "      <th>2</th>\n",
       "      <td>Praime</td>\n",
       "      <td>52</td>\n",
       "      <td>100</td>\n",
       "    </tr>\n",
       "    <tr>\n",
       "      <th>3</th>\n",
       "      <td>Praime</td>\n",
       "      <td>53</td>\n",
       "      <td>100</td>\n",
       "    </tr>\n",
       "    <tr>\n",
       "      <th>4</th>\n",
       "      <td>Praime</td>\n",
       "      <td>54</td>\n",
       "      <td>100</td>\n",
       "    </tr>\n",
       "  </tbody>\n",
       "</table>\n",
       "</div>"
      ],
      "text/plain": [
       "  Bus_Name  distence_km  tiket_price\n",
       "0   Praime           50          100\n",
       "1   Praime           51          100\n",
       "2   Praime           52          100\n",
       "3   Praime           53          100\n",
       "4   Praime           54          100"
      ]
     },
     "execution_count": 34,
     "metadata": {},
     "output_type": "execute_result"
    }
   ],
   "source": [
    "Bus_data.head()"
   ]
  },
  {
   "cell_type": "code",
   "execution_count": 35,
   "id": "909663ad-ab98-43ba-9af6-01c60ca5d441",
   "metadata": {},
   "outputs": [],
   "source": [
    "encoder = LabelEncoder()"
   ]
  },
  {
   "cell_type": "code",
   "execution_count": 37,
   "id": "83d6dab1-f72e-40de-b58f-869c1690b741",
   "metadata": {},
   "outputs": [],
   "source": [
    "Bus_data['Bus_Name'] = encoder.fit_transform(Bus_data['Bus_Name'])\n",
    "Bus_data['tiket_price'] = encoder.fit_transform(Bus_data['tiket_price'])\n",
    "Bus_data['distence_km'] = encoder.fit_transform(Bus_data['distence_km'])\n"
   ]
  },
  {
   "cell_type": "code",
   "execution_count": 39,
   "id": "c1c5fa21-9543-4bea-91a3-304d6f2b103a",
   "metadata": {},
   "outputs": [
    {
     "data": {
      "text/html": [
       "<div>\n",
       "<style scoped>\n",
       "    .dataframe tbody tr th:only-of-type {\n",
       "        vertical-align: middle;\n",
       "    }\n",
       "\n",
       "    .dataframe tbody tr th {\n",
       "        vertical-align: top;\n",
       "    }\n",
       "\n",
       "    .dataframe thead th {\n",
       "        text-align: right;\n",
       "    }\n",
       "</style>\n",
       "<table border=\"1\" class=\"dataframe\">\n",
       "  <thead>\n",
       "    <tr style=\"text-align: right;\">\n",
       "      <th></th>\n",
       "      <th>Bus_Name</th>\n",
       "      <th>distence_km</th>\n",
       "      <th>tiket_price</th>\n",
       "    </tr>\n",
       "  </thead>\n",
       "  <tbody>\n",
       "    <tr>\n",
       "      <th>0</th>\n",
       "      <td>1</td>\n",
       "      <td>20</td>\n",
       "      <td>4</td>\n",
       "    </tr>\n",
       "    <tr>\n",
       "      <th>1</th>\n",
       "      <td>1</td>\n",
       "      <td>21</td>\n",
       "      <td>4</td>\n",
       "    </tr>\n",
       "    <tr>\n",
       "      <th>2</th>\n",
       "      <td>1</td>\n",
       "      <td>22</td>\n",
       "      <td>4</td>\n",
       "    </tr>\n",
       "    <tr>\n",
       "      <th>3</th>\n",
       "      <td>1</td>\n",
       "      <td>23</td>\n",
       "      <td>4</td>\n",
       "    </tr>\n",
       "    <tr>\n",
       "      <th>4</th>\n",
       "      <td>1</td>\n",
       "      <td>24</td>\n",
       "      <td>4</td>\n",
       "    </tr>\n",
       "  </tbody>\n",
       "</table>\n",
       "</div>"
      ],
      "text/plain": [
       "   Bus_Name  distence_km  tiket_price\n",
       "0         1           20            4\n",
       "1         1           21            4\n",
       "2         1           22            4\n",
       "3         1           23            4\n",
       "4         1           24            4"
      ]
     },
     "execution_count": 39,
     "metadata": {},
     "output_type": "execute_result"
    }
   ],
   "source": [
    "Bus_data.head()"
   ]
  },
  {
   "cell_type": "code",
   "execution_count": 42,
   "id": "957b1634-555c-4429-9c02-47ff887919e4",
   "metadata": {},
   "outputs": [],
   "source": [
    "X = Bus_data.drop(columns='Bus_Name', axis=1)\n",
    "Y = Bus_data['Bus_Name']"
   ]
  },
  {
   "cell_type": "code",
   "execution_count": 43,
   "id": "7e803e6f-a48c-44d7-a207-9bc7c198306d",
   "metadata": {},
   "outputs": [
    {
     "name": "stdout",
     "output_type": "stream",
     "text": [
      "     distence_km  tiket_price\n",
      "0             20            4\n",
      "1             21            4\n",
      "2             22            4\n",
      "3             23            4\n",
      "4             24            4\n",
      "..           ...          ...\n",
      "194          151           14\n",
      "195          152           14\n",
      "196          153           14\n",
      "197          154           14\n",
      "198          155           14\n",
      "\n",
      "[199 rows x 2 columns]\n"
     ]
    }
   ],
   "source": [
    "print(X)"
   ]
  },
  {
   "cell_type": "code",
   "execution_count": 44,
   "id": "42b54465-28f1-463e-ba54-fd15ad7f60a0",
   "metadata": {},
   "outputs": [
    {
     "name": "stdout",
     "output_type": "stream",
     "text": [
      "0      1\n",
      "1      1\n",
      "2      1\n",
      "3      1\n",
      "4      1\n",
      "      ..\n",
      "194    0\n",
      "195    0\n",
      "196    0\n",
      "197    0\n",
      "198    0\n",
      "Name: Bus_Name, Length: 199, dtype: int64\n"
     ]
    }
   ],
   "source": [
    "print(Y)"
   ]
  },
  {
   "cell_type": "code",
   "execution_count": null,
   "id": "a2f5cafc-a5ef-466d-9fc1-2ebf85c480e0",
   "metadata": {},
   "outputs": [],
   "source": [
    "X_train, X_test, Y_train, Y_test = train_test_split(X, Y, test_size=0.2, random_state=112)"
   ]
  }
 ],
 "metadata": {
  "kernelspec": {
   "display_name": "Python 3 (ipykernel)",
   "language": "python",
   "name": "python3"
  },
  "language_info": {
   "codemirror_mode": {
    "name": "ipython",
    "version": 3
   },
   "file_extension": ".py",
   "mimetype": "text/x-python",
   "name": "python",
   "nbconvert_exporter": "python",
   "pygments_lexer": "ipython3",
   "version": "3.12.7"
  }
 },
 "nbformat": 4,
 "nbformat_minor": 5
}
